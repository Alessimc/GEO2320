{
 "cells": [
  {
   "cell_type": "code",
   "execution_count": 5,
   "metadata": {},
   "outputs": [],
   "source": [
    "import numpy as np\n",
    "from matplotlib import pyplot as plt\n",
    "import coare35vn"
   ]
  },
  {
   "attachments": {},
   "cell_type": "markdown",
   "metadata": {},
   "source": [
    "# Script to evaluate heat fluxes from bulk parameters\n",
    "Using COARE 3.5. Note that the code containing the main output function for COARE has been adjusted to only return the values we need here. \n",
    "\n",
    "2023-09-19 _kaihc@met.no_ "
   ]
  },
  {
   "cell_type": "code",
   "execution_count": 6,
   "metadata": {},
   "outputs": [],
   "source": [
    "# Input data for COARE algorithm:\n",
    "windspeed = 5.0\n",
    "airTemperature = 15.7\n",
    "relativeHumidity = 101\n",
    "bulkSST = 15.3\n",
    "latitude = 59.86\n",
    "MSLP = 1009.3\n",
    "Hs = 0.2\n",
    "rain = 0.0 # mm/hour ----> not used anywhere\n",
    "mastHeight = 8.0\n",
    "cloudCover = 8.0 # oktas\n",
    "QswIdeal = 970.0 # Model Estimated Shortwave from https://clearskycalculator.com/ "
   ]
  },
  {
   "cell_type": "code",
   "execution_count": 7,
   "metadata": {},
   "outputs": [],
   "source": [
    "# Calculate fluxes using COARE\n",
    "Cfrac = cloudCover/8.0\n",
    "albedo = 0.06\n",
    "Qshortwave = (1.0-albedo)*QswIdeal*(1-Cfrac**3)\n",
    "A = coare35vn.coare35vn(windspeed, airTemperature, relativeHumidity, bulkSST, P=MSLP, Rs=Qshortwave, sigH = Hs, zu=mastHeight, zt=mastHeight, zq=mastHeight, lat=latitude)\n",
    "tau, Qsensible, Qlatent, LWnet, QnetMinusSW, evaporation = A[0].T\n",
    "Qnet = -QnetMinusSW + Qshortwave"
   ]
  },
  {
   "cell_type": "code",
   "execution_count": 8,
   "metadata": {},
   "outputs": [
    {
     "name": "stdout",
     "output_type": "stream",
     "text": [
      "Summary of fluxes defined as positive into the ocean:\n",
      "Sensible heat flux,  3.14 W/m²\n",
      "Latent heat flux,  9.70 W/m²\n",
      "Net longwave radiation, -21.81 W/m²\n",
      "Net shortgwave radiation,  0.00 W/m²\n",
      "Net heat flux, -8.97 W/m²\n"
     ]
    }
   ],
   "source": [
    "# Print results.\n",
    "print(\"Summary of fluxes defined as positive into the ocean:\")\n",
    "print(\"Sensible heat flux, %5.2f W/m²\" % (-Qsensible))\n",
    "print(\"Latent heat flux, %5.2f W/m²\" % (-Qlatent))\n",
    "print(\"Net longwave radiation, %5.2f W/m²\" % (-LWnet))\n",
    "print(\"Net shortgwave radiation, %5.2f W/m²\" % (Qshortwave))\n",
    "\n",
    "print(\"Net heat flux, %5.2f W/m²\" % (Qnet))\n"
   ]
  },
  {
   "cell_type": "code",
   "execution_count": null,
   "metadata": {},
   "outputs": [],
   "source": []
  }
 ],
 "metadata": {
  "kernelspec": {
   "display_name": "Python 3 (ipykernel)",
   "language": "python",
   "name": "python3"
  },
  "language_info": {
   "codemirror_mode": {
    "name": "ipython",
    "version": 3
   },
   "file_extension": ".py",
   "mimetype": "text/x-python",
   "name": "python",
   "nbconvert_exporter": "python",
   "pygments_lexer": "ipython3",
   "version": "3.11.5"
  }
 },
 "nbformat": 4,
 "nbformat_minor": 4
}
